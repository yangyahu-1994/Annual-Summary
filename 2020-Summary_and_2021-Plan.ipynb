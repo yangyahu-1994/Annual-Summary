{
 "cells": [
  {
   "cell_type": "markdown",
   "metadata": {},
   "source": [
    "# 2020年总结:痛并快乐着"
   ]
  },
  {
   "cell_type": "markdown",
   "metadata": {},
   "source": [
    "转眼已是2020年12月31号下午4时09分，刚刚忙完一个项目中自己负责的一部分，但是还需要修改。硕士期间的一篇文章返回来还没来得及修改。不知道以怎样的心情来记录和总结这一年来的成与败、得与失，没有高兴，也没有不高兴。"
   ]
  },
  {
   "cell_type": "markdown",
   "metadata": {},
   "source": [
    "这一年，不管对于世界、国家还是个人，都是极其不容易的一年。从农历春节伊使，仿佛所有的灾难与不幸都降临在了2020年，先是新冠疫情，然后是篮球巨星科比的不幸逝世，紧接着的是全国各地的洪灾，还有在新冠中不幸逝世的著名学者......也是在这一年，我从硕士顺利毕业，到顺利读取自己喜欢专业的博士研究生，亲身经历了祖国的伟大，人民的团结。"
   ]
  },
  {
   "cell_type": "markdown",
   "metadata": {},
   "source": [
    "上面这两段是2020年12月31号写的，也就是昨天，由于当时状态不怎么好，就没再接着往下写。今天是2021年1月1号，也就是今天，想了一会，要不要接着往下写呢？写吧，让人觉得矫情，不写吧，好像又缺了点啥。但说实话哈，这新年好像开的头不怎么好啊，一下午就被批了两次啊，哈哈。"
   ]
  },
  {
   "cell_type": "markdown",
   "metadata": {},
   "source": [
    "## 2020年总结"
   ]
  },
  {
   "cell_type": "markdown",
   "metadata": {},
   "source": [
    "### 1.心态的变化"
   ]
  },
  {
   "cell_type": "markdown",
   "metadata": {},
   "source": [
    "之前一直觉得一个人活在这世上，唯有自尊不可以被践踏，这是底线，绝对不可以！但是今年以来，或者说是后半年以来吧，突然觉得，自尊，相比于活着，其实并没有那么重要，或者说，并不那么值钱。就像余华在其小说《活着》中所说的，活着，可能仅仅是为了活着吧。可是，如果是这样，那有什么意思呢？看不到明天的光芒，就像自己大三大四曾经抑郁过的一段日子一样，简直是人间地狱。可是，我还是想有点追求，即使卑微到尘埃里，即使在别人眼里狗屁不是，我还是想。"
   ]
  },
  {
   "cell_type": "markdown",
   "metadata": {},
   "source": [
    "### 2.身体的变化"
   ]
  },
  {
   "cell_type": "markdown",
   "metadata": {},
   "source": [
    "现在是觉得身体真的不如上本科的时候了。那时候凌晨1点多睡，早晨6点多起，一点问题都没有。现在一旦晚上超过2点，第二天基本就是作废的状态，或者效率很差。那时候可以一口气从兰州坐火车到广州，36个小时硬座，然后还可以再坐2个多小时的大巴，现在15个小时的硬座就是极限了吧。所以：\n",
    "* 一周健身一次或者打球一次吧"
   ]
  },
  {
   "cell_type": "markdown",
   "metadata": {},
   "source": [
    "### 3.关于读博"
   ]
  },
  {
   "cell_type": "markdown",
   "metadata": {},
   "source": [
    "当初决定考博时，北航一学姐说，硕士你可以随便读，但是读博一定要慎重，现在觉得这话太对了。有人说，读博就像赌博，这话并非没有道理。说实话，以我此刻的心情来说，我有点后悔。就在前一段最痛苦的时候，我想过退学，想过要是去工作会怎么样，想过要是去了别处会怎么样，可是，这世界上什么都有，唯独没有如果。要不是对技术的热爱，我真怕自己会坚持不下去。"
   ]
  },
  {
   "cell_type": "markdown",
   "metadata": {},
   "source": [
    "### 4.关于技术"
   ]
  },
  {
   "cell_type": "markdown",
   "metadata": {},
   "source": [
    "我一直喜欢技术，现在依然是，所以我对自己的要求是：\n",
    "* 一个算法，没有亲自用笔在纸上推导过，没有用代码实现过，就不要说自己懂，功夫到家！！！"
   ]
  },
  {
   "cell_type": "markdown",
   "metadata": {},
   "source": [
    "### 5.关于英语口语"
   ]
  },
  {
   "cell_type": "markdown",
   "metadata": {},
   "source": [
    "有人会说，你一个工科狗，学这玩意儿有啥用，说实话，我也不知道，哈哈。可是看着别人操着一口流利的英语，就觉得好帅啊，看着英语演讲视频，内心会澎湃，所以想听从内心去追逐。所以：\n",
    "* 今年努力，能够与老外进行简单的对话。"
   ]
  },
  {
   "cell_type": "markdown",
   "metadata": {},
   "source": [
    "## 2021年计划"
   ]
  },
  {
   "cell_type": "markdown",
   "metadata": {},
   "source": [
    "哈哈，写的有点乱，简单总结一下吧：\n",
    "* 文章方面，2篇 二区及以上\n",
    "* 口语方面，能与老外进行简单的对话\n",
    "* 技术方面，一个算法，没有亲自用笔推导过，没有用代码实现过，就不要说自己懂\n",
    "* 身体方面，一周一次健身或者一周一次篮球\n",
    "* 其他方面，快速盲打，LaTeX排版，MATLAB编程，有精力的话，学点C++"
   ]
  },
  {
   "cell_type": "markdown",
   "metadata": {},
   "source": [
    "## 最后"
   ]
  },
  {
   "cell_type": "markdown",
   "metadata": {},
   "source": [
    "- 但行好事，莫问前程！\n",
    "- 2020年1月1日\n",
    "- 于哈尔滨工业大学科学园"
   ]
  },
  {
   "cell_type": "code",
   "execution_count": null,
   "metadata": {},
   "outputs": [],
   "source": []
  }
 ],
 "metadata": {
  "kernelspec": {
   "display_name": "Python 3",
   "language": "python",
   "name": "python3"
  },
  "language_info": {
   "codemirror_mode": {
    "name": "ipython",
    "version": 3
   },
   "file_extension": ".py",
   "mimetype": "text/x-python",
   "name": "python",
   "nbconvert_exporter": "python",
   "pygments_lexer": "ipython3",
   "version": "3.8.3"
  },
  "toc": {
   "base_numbering": 1,
   "nav_menu": {},
   "number_sections": false,
   "sideBar": true,
   "skip_h1_title": false,
   "title_cell": "Table of Contents",
   "title_sidebar": "Contents",
   "toc_cell": false,
   "toc_position": {},
   "toc_section_display": true,
   "toc_window_display": false
  }
 },
 "nbformat": 4,
 "nbformat_minor": 4
}
